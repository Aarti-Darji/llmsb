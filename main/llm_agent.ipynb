{
 "cells": [
  {
   "cell_type": "code",
   "execution_count": 1,
   "metadata": {},
   "outputs": [
    {
<<<<<<< HEAD
     "name": "stderr",
     "output_type": "stream",
     "text": [
      "/tmp/ipykernel_785/3918073063.py:1: LangChainDeprecationWarning: As of langchain-core 0.3.0, LangChain uses pydantic v2 internally. The langchain_core.pydantic_v1 module was a compatibility shim for pydantic v1, and should no longer be used. Please update the code to import from Pydantic directly.\n",
      "\n",
      "For example, replace imports like: `from langchain_core.pydantic_v1 import BaseModel`\n",
      "with: `from pydantic import BaseModel`\n",
      "or the v1 compatibility namespace if you are working in a code base that has not been fully upgraded to pydantic 2 yet. \tfrom pydantic.v1 import BaseModel\n",
      "\n",
      "  from imports import *\n",
      "/home/aarti/.local/lib/python3.10/site-packages/pydantic/_internal/_fields.py:132: UserWarning: Field \"model_name\" in GPT4AllEmbeddings has conflict with protected namespace \"model_\".\n",
      "\n",
      "You may be able to resolve this warning by setting `model_config['protected_namespaces'] = ()`.\n",
      "  warnings.warn(\n",
      "USER_AGENT environment variable not set, consider setting it to identify your requests.\n"
     ]
=======
      "cell_type": "code",
      "execution_count": 1,
      "metadata": {},
      "outputs": [
        {
          "name": "stderr",
          "output_type": "stream",
          "text": [
            "USER_AGENT environment variable not set, consider setting it to identify your requests.\n"
          ]
        },
        {
          "ename": "ValueError",
          "evalue": "Function must have a docstring if description not provided.",
          "output_type": "error",
          "traceback": [
            "\u001b[0;31m---------------------------------------------------------------------------\u001b[0m",
            "\u001b[0;31mValueError\u001b[0m                                Traceback (most recent call last)",
            "Cell \u001b[0;32mIn[1], line 1\u001b[0m\n\u001b[0;32m----> 1\u001b[0m \u001b[38;5;28;01mfrom\u001b[39;00m \u001b[38;5;21;01mimports\u001b[39;00m \u001b[38;5;28;01mimport\u001b[39;00m \u001b[38;5;241m*\u001b[39m\n",
            "File \u001b[0;32m/workspaces/llmsb/main/imports.py:68\u001b[0m\n\u001b[1;32m     65\u001b[0m \u001b[38;5;28;01mimport\u001b[39;00m \u001b[38;5;21;01mipywidgets\u001b[39;00m \u001b[38;5;28;01mas\u001b[39;00m \u001b[38;5;21;01mwidgets\u001b[39;00m\n\u001b[1;32m     66\u001b[0m \u001b[38;5;28;01mfrom\u001b[39;00m \u001b[38;5;21;01mIPython\u001b[39;00m\u001b[38;5;21;01m.\u001b[39;00m\u001b[38;5;21;01mdisplay\u001b[39;00m \u001b[38;5;28;01mimport\u001b[39;00m display, HTML\n\u001b[0;32m---> 68\u001b[0m \u001b[38;5;28;01mfrom\u001b[39;00m \u001b[38;5;21;01mutils\u001b[39;00m \u001b[38;5;28;01mimport\u001b[39;00m \u001b[38;5;241m*\u001b[39m\n\u001b[1;32m     69\u001b[0m \u001b[38;5;28;01mfrom\u001b[39;00m \u001b[38;5;21;01mos\u001b[39;00m\u001b[38;5;21;01m.\u001b[39;00m\u001b[38;5;21;01mpath\u001b[39;00m \u001b[38;5;28;01mimport\u001b[39;00m join\n",
            "File \u001b[0;32m/workspaces/llmsb/main/utils.py:212\u001b[0m\n\u001b[1;32m    209\u001b[0m     con\u001b[38;5;241m.\u001b[39mclose()\n\u001b[1;32m    210\u001b[0m     \u001b[38;5;28;01mreturn\u001b[39;00m final_coords\n\u001b[0;32m--> 212\u001b[0m \u001b[38;5;129;43m@tool\u001b[39;49m\n\u001b[1;32m    213\u001b[0m \u001b[38;5;28;43;01mdef\u001b[39;49;00m\u001b[43m \u001b[49m\u001b[38;5;21;43mfind_channel_means_at_coords\u001b[39;49m\u001b[43m(\u001b[49m\u001b[43mcoords\u001b[49m\u001b[43m:\u001b[49m\u001b[43m \u001b[49m\u001b[38;5;28;43mlist\u001b[39;49m\u001b[43m)\u001b[49m\u001b[43m \u001b[49m\u001b[38;5;241;43m-\u001b[39;49m\u001b[38;5;241;43m>\u001b[39;49m\u001b[43m \u001b[49m\u001b[38;5;28;43mdict\u001b[39;49m\u001b[43m:\u001b[49m\n\u001b[1;32m    215\u001b[0m \u001b[43m    \u001b[49m\u001b[43mcon\u001b[49m\u001b[43m \u001b[49m\u001b[38;5;241;43m=\u001b[39;49m\u001b[43m \u001b[49m\u001b[43mduckdb\u001b[49m\u001b[38;5;241;43m.\u001b[39;49m\u001b[43mconnect\u001b[49m\u001b[43m(\u001b[49m\u001b[38;5;124;43m\"\u001b[39;49m\u001b[38;5;124;43m/workspaces/llmsb/data/Dataset1-LSP13626-melanoma-in-situ-256_bricks (1).db\u001b[39;49m\u001b[38;5;124;43m\"\u001b[39;49m\u001b[43m)\u001b[49m\n\u001b[1;32m    217\u001b[0m \u001b[43m    \u001b[49m\u001b[43mchannel_means\u001b[49m\u001b[43m \u001b[49m\u001b[38;5;241;43m=\u001b[39;49m\u001b[43m \u001b[49m\u001b[43m{\u001b[49m\u001b[43m}\u001b[49m\n",
            "File \u001b[0;32m~/.python/current/lib/python3.12/site-packages/langchain_core/tools/convert.py:215\u001b[0m, in \u001b[0;36mtool\u001b[0;34m(return_direct, args_schema, infer_schema, response_format, parse_docstring, error_on_invalid_docstring, *args)\u001b[0m\n\u001b[1;32m    211\u001b[0m     \u001b[38;5;28;01mreturn\u001b[39;00m _make_with_name(args[\u001b[38;5;241m0\u001b[39m])\n\u001b[1;32m    212\u001b[0m \u001b[38;5;28;01melif\u001b[39;00m \u001b[38;5;28mlen\u001b[39m(args) \u001b[38;5;241m==\u001b[39m \u001b[38;5;241m1\u001b[39m \u001b[38;5;129;01mand\u001b[39;00m \u001b[38;5;28mcallable\u001b[39m(args[\u001b[38;5;241m0\u001b[39m]):\n\u001b[1;32m    213\u001b[0m     \u001b[38;5;66;03m# if the argument is a function, then we use the function name as the tool name\u001b[39;00m\n\u001b[1;32m    214\u001b[0m     \u001b[38;5;66;03m# Example usage: @tool\u001b[39;00m\n\u001b[0;32m--> 215\u001b[0m     \u001b[38;5;28;01mreturn\u001b[39;00m \u001b[43m_make_with_name\u001b[49m\u001b[43m(\u001b[49m\u001b[43margs\u001b[49m\u001b[43m[\u001b[49m\u001b[38;5;241;43m0\u001b[39;49m\u001b[43m]\u001b[49m\u001b[38;5;241;43m.\u001b[39;49m\u001b[38;5;18;43m__name__\u001b[39;49m\u001b[43m)\u001b[49m\u001b[43m(\u001b[49m\u001b[43margs\u001b[49m\u001b[43m[\u001b[49m\u001b[38;5;241;43m0\u001b[39;49m\u001b[43m]\u001b[49m\u001b[43m)\u001b[49m\n\u001b[1;32m    216\u001b[0m \u001b[38;5;28;01melif\u001b[39;00m \u001b[38;5;28mlen\u001b[39m(args) \u001b[38;5;241m==\u001b[39m \u001b[38;5;241m0\u001b[39m:\n\u001b[1;32m    217\u001b[0m     \u001b[38;5;66;03m# if there are no arguments, then we use the function name as the tool name\u001b[39;00m\n\u001b[1;32m    218\u001b[0m     \u001b[38;5;66;03m# Example usage: @tool(return_direct=True)\u001b[39;00m\n\u001b[1;32m    219\u001b[0m     \u001b[38;5;28;01mdef\u001b[39;00m \u001b[38;5;21m_partial\u001b[39m(func: Callable[[\u001b[38;5;28mstr\u001b[39m], \u001b[38;5;28mstr\u001b[39m]) \u001b[38;5;241m-\u001b[39m\u001b[38;5;241m>\u001b[39m BaseTool:\n",
            "File \u001b[0;32m~/.python/current/lib/python3.12/site-packages/langchain_core/tools/convert.py:176\u001b[0m, in \u001b[0;36mtool.<locals>._make_with_name.<locals>._make_tool\u001b[0;34m(dec_func)\u001b[0m\n\u001b[1;32m    173\u001b[0m     description \u001b[38;5;241m=\u001b[39m \u001b[38;5;28;01mNone\u001b[39;00m\n\u001b[1;32m    175\u001b[0m \u001b[38;5;28;01mif\u001b[39;00m infer_schema \u001b[38;5;129;01mor\u001b[39;00m args_schema \u001b[38;5;129;01mis\u001b[39;00m \u001b[38;5;129;01mnot\u001b[39;00m \u001b[38;5;28;01mNone\u001b[39;00m:\n\u001b[0;32m--> 176\u001b[0m     \u001b[38;5;28;01mreturn\u001b[39;00m \u001b[43mStructuredTool\u001b[49m\u001b[38;5;241;43m.\u001b[39;49m\u001b[43mfrom_function\u001b[49m\u001b[43m(\u001b[49m\n\u001b[1;32m    177\u001b[0m \u001b[43m        \u001b[49m\u001b[43mfunc\u001b[49m\u001b[43m,\u001b[49m\n\u001b[1;32m    178\u001b[0m \u001b[43m        \u001b[49m\u001b[43mcoroutine\u001b[49m\u001b[43m,\u001b[49m\n\u001b[1;32m    179\u001b[0m \u001b[43m        \u001b[49m\u001b[43mname\u001b[49m\u001b[38;5;241;43m=\u001b[39;49m\u001b[43mtool_name\u001b[49m\u001b[43m,\u001b[49m\n\u001b[1;32m    180\u001b[0m \u001b[43m        \u001b[49m\u001b[43mdescription\u001b[49m\u001b[38;5;241;43m=\u001b[39;49m\u001b[43mdescription\u001b[49m\u001b[43m,\u001b[49m\n\u001b[1;32m    181\u001b[0m \u001b[43m        \u001b[49m\u001b[43mreturn_direct\u001b[49m\u001b[38;5;241;43m=\u001b[39;49m\u001b[43mreturn_direct\u001b[49m\u001b[43m,\u001b[49m\n\u001b[1;32m    182\u001b[0m \u001b[43m        \u001b[49m\u001b[43margs_schema\u001b[49m\u001b[38;5;241;43m=\u001b[39;49m\u001b[43mschema\u001b[49m\u001b[43m,\u001b[49m\n\u001b[1;32m    183\u001b[0m \u001b[43m        \u001b[49m\u001b[43minfer_schema\u001b[49m\u001b[38;5;241;43m=\u001b[39;49m\u001b[43minfer_schema\u001b[49m\u001b[43m,\u001b[49m\n\u001b[1;32m    184\u001b[0m \u001b[43m        \u001b[49m\u001b[43mresponse_format\u001b[49m\u001b[38;5;241;43m=\u001b[39;49m\u001b[43mresponse_format\u001b[49m\u001b[43m,\u001b[49m\n\u001b[1;32m    185\u001b[0m \u001b[43m        \u001b[49m\u001b[43mparse_docstring\u001b[49m\u001b[38;5;241;43m=\u001b[39;49m\u001b[43mparse_docstring\u001b[49m\u001b[43m,\u001b[49m\n\u001b[1;32m    186\u001b[0m \u001b[43m        \u001b[49m\u001b[43merror_on_invalid_docstring\u001b[49m\u001b[38;5;241;43m=\u001b[39;49m\u001b[43merror_on_invalid_docstring\u001b[49m\u001b[43m,\u001b[49m\n\u001b[1;32m    187\u001b[0m \u001b[43m    \u001b[49m\u001b[43m)\u001b[49m\n\u001b[1;32m    188\u001b[0m \u001b[38;5;66;03m# If someone doesn't want a schema applied, we must treat it as\u001b[39;00m\n\u001b[1;32m    189\u001b[0m \u001b[38;5;66;03m# a simple string->string function\u001b[39;00m\n\u001b[1;32m    190\u001b[0m \u001b[38;5;28;01mif\u001b[39;00m dec_func\u001b[38;5;241m.\u001b[39m\u001b[38;5;18m__doc__\u001b[39m \u001b[38;5;129;01mis\u001b[39;00m \u001b[38;5;28;01mNone\u001b[39;00m:\n",
            "File \u001b[0;32m~/.python/current/lib/python3.12/site-packages/langchain_core/tools/structured.py:176\u001b[0m, in \u001b[0;36mStructuredTool.from_function\u001b[0;34m(cls, func, coroutine, name, description, return_direct, args_schema, infer_schema, response_format, parse_docstring, error_on_invalid_docstring, **kwargs)\u001b[0m\n\u001b[1;32m    174\u001b[0m     description_ \u001b[38;5;241m=\u001b[39m args_schema\u001b[38;5;241m.\u001b[39m\u001b[38;5;18m__doc__\u001b[39m \u001b[38;5;129;01mor\u001b[39;00m \u001b[38;5;28;01mNone\u001b[39;00m\n\u001b[1;32m    175\u001b[0m \u001b[38;5;28;01mif\u001b[39;00m description_ \u001b[38;5;129;01mis\u001b[39;00m \u001b[38;5;28;01mNone\u001b[39;00m:\n\u001b[0;32m--> 176\u001b[0m     \u001b[38;5;28;01mraise\u001b[39;00m \u001b[38;5;167;01mValueError\u001b[39;00m(\n\u001b[1;32m    177\u001b[0m         \u001b[38;5;124m\"\u001b[39m\u001b[38;5;124mFunction must have a docstring if description not provided.\u001b[39m\u001b[38;5;124m\"\u001b[39m\n\u001b[1;32m    178\u001b[0m     )\n\u001b[1;32m    179\u001b[0m \u001b[38;5;28;01mif\u001b[39;00m description \u001b[38;5;129;01mis\u001b[39;00m \u001b[38;5;28;01mNone\u001b[39;00m:\n\u001b[1;32m    180\u001b[0m     \u001b[38;5;66;03m# Only apply if using the function's docstring\u001b[39;00m\n\u001b[1;32m    181\u001b[0m     description_ \u001b[38;5;241m=\u001b[39m textwrap\u001b[38;5;241m.\u001b[39mdedent(description_)\u001b[38;5;241m.\u001b[39mstrip()\n",
            "\u001b[0;31mValueError\u001b[0m: Function must have a docstring if description not provided."
          ]
        }
      ],
      "source": [
        "from imports import *"
      ]
>>>>>>> 43cdc8c2fc584ced7608bc95bc4711fd0cbfe11c
    },
    {
     "ename": "SyntaxError",
     "evalue": "(unicode error) 'unicodeescape' codec can't decode bytes in position 2-3: truncated \\UXXXXXXXX escape (utils.py, line 8)",
     "output_type": "error",
     "traceback": [
      "Traceback \u001b[0;36m(most recent call last)\u001b[0m:\n",
      "\u001b[0m  File \u001b[1;32m~/.local/lib/python3.10/site-packages/IPython/core/interactiveshell.py:3460\u001b[0m in \u001b[1;35mrun_code\u001b[0m\n    exec(code_obj, self.user_global_ns, self.user_ns)\u001b[0m\n",
      "\u001b[0m  Cell \u001b[1;32mIn[1], line 1\u001b[0m\n    from imports import *\u001b[0m\n",
      "\u001b[0;36m  File \u001b[0;32m/mnt/c/Users/Aarti Darji/Desktop/llmsb/main/imports.py:67\u001b[0;36m\n\u001b[0;31m    from utils import *\u001b[0;36m\n",
      "\u001b[0;36m  File \u001b[0;32m/mnt/c/Users/Aarti Darji/Desktop/llmsb/main/utils.py:8\u001b[0;36m\u001b[0m\n\u001b[0;31m    con = duckdb.connect(\"C:\\Users\\Aarti Darji\\Desktop\\Dataset1-LSP13626-melanoma-in-situ-256_bricks.db\")\u001b[0m\n\u001b[0m                                                                                                        ^\u001b[0m\n\u001b[0;31mSyntaxError\u001b[0m\u001b[0;31m:\u001b[0m (unicode error) 'unicodeescape' codec can't decode bytes in position 2-3: truncated \\UXXXXXXXX escape\n"
     ]
    }
   ],
   "source": [
    "from imports import *"
   ]
  },
  {
   "cell_type": "markdown",
   "metadata": {
    "id": "ZgDKLGMrjWSs"
   },
   "source": [
    "# Data Basic View"
   ]
  },
  {
   "cell_type": "code",
   "execution_count": 3,
   "metadata": {
    "id": "Rxx1QCcrUfgL"
   },
   "outputs": [
    {
     "ename": "NameError",
     "evalue": "name 'ome_types' is not defined",
     "output_type": "error",
     "traceback": [
      "\u001b[0;31m---------------------------------------------------------------------------\u001b[0m",
      "\u001b[0;31mNameError\u001b[0m                                 Traceback (most recent call last)",
      "Cell \u001b[0;32mIn[3], line 4\u001b[0m\n\u001b[1;32m      2\u001b[0m response \u001b[38;5;241m=\u001b[39m requests\u001b[38;5;241m.\u001b[39mget(\u001b[38;5;124m\"\u001b[39m\u001b[38;5;124mhttps://lsp-public-data.s3.amazonaws.com/yapp-2023-3d-melanoma/Dataset1-LSP13626-melanoma-in-situ/OME/METADATA.ome.xml\u001b[39m\u001b[38;5;124m\"\u001b[39m)\n\u001b[1;32m      3\u001b[0m data \u001b[38;5;241m=\u001b[39m response\u001b[38;5;241m.\u001b[39mtext\n\u001b[0;32m----> 4\u001b[0m ome_xml \u001b[38;5;241m=\u001b[39m \u001b[43mome_types\u001b[49m\u001b[38;5;241m.\u001b[39mfrom_xml(response\u001b[38;5;241m.\u001b[39mtext\u001b[38;5;241m.\u001b[39mreplace(\u001b[38;5;124m\"\u001b[39m\u001b[38;5;124mÂ\u001b[39m\u001b[38;5;124m\"\u001b[39m,\u001b[38;5;124m\"\u001b[39m\u001b[38;5;124m\"\u001b[39m))\n\u001b[1;32m      5\u001b[0m channel_names \u001b[38;5;241m=\u001b[39m [c\u001b[38;5;241m.\u001b[39mname \u001b[38;5;28;01mfor\u001b[39;00m c \u001b[38;5;129;01min\u001b[39;00m ome_xml\u001b[38;5;241m.\u001b[39mimages[\u001b[38;5;241m0\u001b[39m]\u001b[38;5;241m.\u001b[39mpixels\u001b[38;5;241m.\u001b[39mchannels]\n\u001b[1;32m      6\u001b[0m channel_dict \u001b[38;5;241m=\u001b[39m {name: idx \u001b[38;5;28;01mfor\u001b[39;00m idx, name \u001b[38;5;129;01min\u001b[39;00m \u001b[38;5;28menumerate\u001b[39m(channel_names)}\n",
      "\u001b[0;31mNameError\u001b[0m: name 'ome_types' is not defined"
     ]
    }
   ],
   "source": [
    "import requests\n",
    "response = requests.get(\"https://lsp-public-data.s3.amazonaws.com/yapp-2023-3d-melanoma/Dataset1-LSP13626-melanoma-in-situ/OME/METADATA.ome.xml\")\n",
    "data = response.text\n",
    "ome_xml = ome_types.from_xml(response.text.replace(\"Â\",\"\"))\n",
    "channel_names = [c.name for c in ome_xml.images[0].pixels.channels]\n",
    "channel_dict = {name: idx for idx, name in enumerate(channel_names)}"
   ]
  },
  {
   "cell_type": "code",
   "execution_count": 4,
   "metadata": {
    "id": "TGYbVE96ScHV"
   },
   "outputs": [],
   "source": [
    "df = pd.read_csv(\"/content/drive/MyDrive/finaloutput.csv\", index_col=0)\n",
    "df[\"initial_sets\"] = \"test\""
   ]
  },
  {
   "cell_type": "code",
   "execution_count": 5,
   "metadata": {
    "id": "UbQeGDB-Stir"
   },
   "outputs": [],
   "source": [
    "polygons = np.array(df[\"vertices\"].apply(lambda row: np.array(ast.literal_eval(row)).tolist()).values.tolist()).astype(np.int16)\n",
    "\n",
    "for i in range(len(polygons)):\n",
    "    # Swap ordering of vertices 3 and 4\n",
    "    temp = list(polygons[i, 3, :])\n",
    "    polygons[i, 3, :] = polygons[i, 2, :]\n",
    "    polygons[i, 2, :] = temp\n",
    "centers = np.array(df[\"center\"].apply(lambda row: np.array(ast.literal_eval(row)).tolist()).values.tolist()).astype(np.int16)"
   ]
  },
  {
   "cell_type": "code",
   "execution_count": 6,
   "metadata": {
    "colab": {
     "base_uri": "https://localhost:8080/"
    },
    "id": "odAUrEj5SwVs",
    "outputId": "3d630ed6-86dc-4860-a2a8-08a681d897a4"
   },
   "outputs": [
    {
     "name": "stderr",
     "output_type": "stream",
     "text": [
      "/usr/local/lib/python3.10/dist-packages/anndata/_core/aligned_df.py:68: ImplicitModificationWarning: Transforming to str index.\n",
      "  warnings.warn(\"Transforming to str index.\", ImplicitModificationWarning)\n"
     ]
    }
   ],
   "source": [
    "adata = AnnData(obs=df, obsm={\"polygons\": polygons, \"centers\": centers})\n",
    "adata.write_zarr(\"my_adata.zarr\")"
   ]
  },
  {
   "cell_type": "code",
   "execution_count": 7,
   "metadata": {
    "id": "Cz5f5dEVFYxI"
   },
   "outputs": [],
   "source": [
    "class BrickOpacityPlugin(VitesscePlugin):\n",
    "    def on_config_change(self, new_config):\n",
    "        update_needed = False\n",
    "        original_uid = new_config.get(\"uid\", \"\")\n",
    "        updated_uid = original_uid\n",
    "\n",
    "        if \"coordinationSpace\" in new_config and \"obsSetSelection\" in new_config[\"coordinationSpace\"]:\n",
    "            obs_set_selection = new_config[\"coordinationSpace\"][\"obsSetSelection\"]\n",
    "            selection_list = obs_set_selection.get(\"A\") or []\n",
    "\n",
    "            if len(selection_list) == 0:\n",
    "                if new_config[\"coordinationSpace\"][\"spatialChannelOpacity\"].get(\"init_bv_obsSegmentations_0\", None) != 0:\n",
    "                    new_config[\"coordinationSpace\"][\"spatialChannelOpacity\"][\"init_bv_obsSegmentations_0\"] = 0\n",
    "                    update_needed = True\n",
    "                updated_uid = f\"with_query_empty_{uuid.uuid4().hex}\"\n",
    "\n",
    "            elif \"My Selections\" in [sel[0] for sel in selection_list]:\n",
    "                if new_config[\"coordinationSpace\"][\"spatialChannelOpacity\"].get(\"init_bv_obsSegmentations_0\", None) != 1.0:\n",
    "                    new_config[\"coordinationSpace\"][\"spatialChannelOpacity\"][\"init_bv_obsSegmentations_0\"] = 1.0\n",
    "                    update_needed = True\n",
    "                updated_uid = f\"with_query_{str(selection_list)}\"\n",
    "\n",
    "        if update_needed and updated_uid != original_uid:\n",
    "            return {**new_config, \"uid\": updated_uid}\n",
    "        else:\n",
    "            return new_config"
   ]
  },
  {
   "cell_type": "code",
   "execution_count": 8,
   "metadata": {
    "colab": {
     "base_uri": "https://localhost:8080/",
     "height": 617,
     "referenced_widgets": [
      "c927a8cdc5eb4969abce94743c57cd5f",
      "537a7f2c3a8844d39e2a80135b82dfb2"
     ]
    },
    "id": "Lb-qr-86jYL_",
    "outputId": "dfdc9820-ec29-470d-eb19-44d728325690"
   },
   "outputs": [
    {
     "data": {
      "application/vnd.jupyter.widget-view+json": {
       "model_id": "c927a8cdc5eb4969abce94743c57cd5f",
       "version_major": 2,
       "version_minor": 0
      },
      "text/plain": [
       "VitessceWidget(config={'version': '1.0.16', 'name': 'BioMedVis Challenge', 'description': '', 'datasets': [{'u…"
      ]
     },
     "metadata": {
      "application/vnd.jupyter.widget-view+json": {
       "colab": {
        "custom_widget_manager": {
         "url": "https://ssl.gstatic.com/colaboratory-static/widgets/colab-cdn-widget-manager/2b70e893a8ba7c0f/manager.min.js"
        }
       }
      }
     },
     "output_type": "display_data"
    }
   ],
   "source": [
    "vc = VitessceConfig(schema_version=\"1.0.16\", name=\"BioMedVis Challenge\")\n",
    "image_dataset = vc.add_dataset(name=\"Blood Vessel\", uid=\"bv\").add_file(\n",
    "    url=\"https://lsp-public-data.s3.amazonaws.com/yapp-2023-3d-melanoma/Dataset1-LSP13626-melanoma-in-situ/0\",\n",
    "    file_type=\"image.ome-zarr\"\n",
    "\n",
    ").add_object(\n",
    "    AnnDataWrapper(\n",
    "        adata_store=\"my_adata.zarr\",\n",
    "        obs_locations_path=\"obsm/centers\",\n",
    "        obs_segmentations_path=\"obsm/polygons\",\n",
    "        obs_set_paths=[\"obs/initial_sets\"],\n",
    "        obs_set_names=[\"Initial sets\"],\n",
    "    )\n",
    ")\n",
    "obs_set_selection_scope, obs_set_color_scope, additional_obs_sets_scope = vc.add_coordination(\"obsSetSelection\", \"obsSetColor\", \"additionalObsSets\")\n",
    "obs_set_selection_scope.set_value(None)\n",
    "obs_set_color_scope.set_value(None)\n",
    "additional_obs_sets_scope.set_value(None)\n",
    "\n",
    "spatial = vc.add_view(\"spatialBeta\", dataset=image_dataset)\n",
    "lc = vc.add_view(\"layerControllerBeta\", dataset=image_dataset)\n",
    "obs = vc.add_view(\"obsSets\", dataset=image_dataset)\n",
    "\n",
    "vc.link_views_by_dict([spatial, lc], {\n",
    "    \"spatialTargetT\": 0,\n",
    "    \"spatialZoom\": -3.55,\n",
    "    \"spatialTargetX\": 6478,\n",
    "    \"spatialTargetY\": 2215,\n",
    "    \"spatialTargetZ\": 100,\n",
    "    \"spatialRenderingMode\": \"2D\",\n",
    "    \"imageLayer\": CL([\n",
    "      {\n",
    "        \"spatialTargetResolution\": 3,\n",
    "        \"spatialLayerOpacity\": 1.0,\n",
    "        \"spatialLayerVisible\": True,\n",
    "        \"photometricInterpretation\": \"BlackIsZero\",\n",
    "        \"imageChannel\": CL([\n",
    "          {\n",
    "            \"spatialTargetC\": 45,\n",
    "            \"spatialChannelColor\": [255,0,255],\n",
    "            \"spatialChannelVisible\": True,\n",
    "            \"spatialChannelOpacity\": 1.0,\n",
    "              \"spatialChannelWindow\": [0, 100],\n",
    "          }\n",
    "\n",
    "          ])\n",
    "      }\n",
    "\n",
    "    ]),\n",
    "}, meta=True, scope_prefix=get_initial_coordination_scope_prefix(\"bv\", \"image\"))\n",
    "\n",
    "vc.link_views_by_dict([spatial, lc], {\n",
    "    \"segmentationLayer\": CL([\n",
    "      {\n",
    "        \"spatialLayerVisible\": True,\n",
    "        \"spatialLayerOpacity\": 1.0,\n",
    "        \"segmentationChannel\": CL([\n",
    "          {\n",
    "            \"obsType\": 'cell',\n",
    "            \"spatialTargetC\": 0,\n",
    "            \"spatialChannelColor\": [255, 255, 255],\n",
    "            \"spatialChannelOpacity\": 0, # Note: opacity setting seems buggy (only becomes transparent with a very small value)\n",
    "            \"featureType\": 'gene',\n",
    "            \"featureValueType\": 'expression',\n",
    "            \"spatialChannelVisible\": True,\n",
    "            \"obsColorEncoding\": 'spatialChannelColor',\n",
    "            \"spatialSegmentationFilled\": False,\n",
    "            \"spatialSegmentationStrokeWidth\": 25,\n",
    "            \"obsHighlight\": None,\n",
    "            \"obsSetSelection\": obs_set_selection_scope,\n",
    "            \"obsSetColor\": obs_set_color_scope,\n",
    "            \"additionalObsSets\": additional_obs_sets_scope,\n",
    "          },\n",
    "        ])\n",
    "      }\n",
    "    ])\n",
    "}, meta=True, scope_prefix=get_initial_coordination_scope_prefix(\"bv\", \"obsSegmentations\"))\n",
    "\n",
    "obs.use_coordination(obs_set_selection_scope)\n",
    "obs.use_coordination(obs_set_color_scope)\n",
    "obs.use_coordination(additional_obs_sets_scope)\n",
    "\n",
    "vc.layout(spatial | (lc / obs));\n",
    "vw = vc.widget(js_package_version=\"3.4.5\", remount_on_uid_change=False, plugins=[BrickOpacityPlugin()])\n",
    "vw"
   ]
  },
  {
   "cell_type": "markdown",
   "metadata": {
    "id": "RPToCbs9jarV"
   },
   "source": [
    "# Open AI Key + Prompt"
   ]
  },
  {
   "cell_type": "code",
   "execution_count": 9,
   "metadata": {
    "id": "mGVbSnYvjdRq"
   },
   "outputs": [],
   "source": [
    "load_dotenv()\n",
    "\n",
    "api_key = os.getenv('OPENAI_API_KEY')\n",
    "llm = ChatOpenAI(model=\"gpt-4o\")"
   ]
  },
  {
   "cell_type": "code",
   "execution_count": 10,
   "metadata": {
    "colab": {
     "base_uri": "https://localhost:8080/",
     "height": 123
    },
    "id": "MTYSfjtLbej7",
    "outputId": "b4b9a5e9-3e54-48d6-ef96-329c54b66cb2"
   },
   "outputs": [
    {
     "data": {
      "application/vnd.google.colaboratory.intrinsic+json": {
       "type": "string"
      },
      "text/plain": [
       "'\\nvc.link_views_by_dict([spatial, lc], {{\\n    \"segmentationLayer\": CL([\\n      {{\\n        \"spatialLayerVisible\": True,\\n        \"spatialLayerOpacity\": 1.0,\\n        \"segmentationChannel\": CL([\\n          {{\\n            \"obsType\": \\'cell\\',\\n            \"spatialTargetC\": 0,\\n            \"spatialChannelColor\": [255, 255, 255],\\n            \"spatialChannelOpacity\": 0, # Note: opacity setting seems buggy (only becomes transparent with a very small value)\\n            \"featureType\": \\'gene\\',\\n            \"featureValueType\": \\'expression\\',\\n            \"spatialChannelVisible\": True,\\n            \"obsColorEncoding\": \\'spatialChannelColor\\',\\n            \"spatialSegmentationFilled\": False,\\n            \"spatialSegmentationStrokeWidth\": 25,\\n            \"obsHighlight\": None,\\n            \"obsSetSelection\": obs_set_selection_scope,\\n            \"obsSetColor\": obs_set_color_scope,\\n            \"additionalObsSets\": additional_obs_sets_scope,\\n          }},\\n        ])\\n      }}\\n    ])\\n}}, meta=True, scope_prefix=get_initial_coordination_scope_prefix(\"bv\", \"obsSegmentations\"))\\nobs.use_coordination(obs_set_selection_scope)\\nobs.use_coordination(obs_set_color_scope)\\nobs.use_coordination(additional_obs_sets_scope)\\n'"
      ]
     },
     "execution_count": 10,
     "metadata": {},
     "output_type": "execute_result"
    }
   ],
   "source": [
    "\"\"\"\n",
    "vc.link_views_by_dict([spatial, lc], {{\n",
    "    \"segmentationLayer\": CL([\n",
    "      {{\n",
    "        \"spatialLayerVisible\": True,\n",
    "        \"spatialLayerOpacity\": 1.0,\n",
    "        \"segmentationChannel\": CL([\n",
    "          {{\n",
    "            \"obsType\": 'cell',\n",
    "            \"spatialTargetC\": 0,\n",
    "            \"spatialChannelColor\": [255, 255, 255],\n",
    "            \"spatialChannelOpacity\": 0, # Note: opacity setting seems buggy (only becomes transparent with a very small value)\n",
    "            \"featureType\": 'gene',\n",
    "            \"featureValueType\": 'expression',\n",
    "            \"spatialChannelVisible\": True,\n",
    "            \"obsColorEncoding\": 'spatialChannelColor',\n",
    "            \"spatialSegmentationFilled\": False,\n",
    "            \"spatialSegmentationStrokeWidth\": 25,\n",
    "            \"obsHighlight\": None,\n",
    "            \"obsSetSelection\": obs_set_selection_scope,\n",
    "            \"obsSetColor\": obs_set_color_scope,\n",
    "            \"additionalObsSets\": additional_obs_sets_scope,\n",
    "          }},\n",
    "        ])\n",
    "      }}\n",
    "    ])\n",
    "}}, meta=True, scope_prefix=get_initial_coordination_scope_prefix(\"bv\", \"obsSegmentations\"))\n",
    "obs.use_coordination(obs_set_selection_scope)\n",
    "obs.use_coordination(obs_set_color_scope)\n",
    "obs.use_coordination(additional_obs_sets_scope)\n",
    "\"\"\""
   ]
  },
  {
   "cell_type": "code",
   "execution_count": 11,
   "metadata": {
    "id": "c79sp5sNpJ5M"
   },
   "outputs": [],
   "source": [
    "promptexample =  \"\"\"\n",
    "You are a helpful assistant. Always provide your answer in exactly two paragraphs and no more. Do not add in any extra lines.\n",
    "First, always provide a brief description of the marker(s) or region asked about in their query and what they do,\n",
    "and second, if the user just asks to see or show a certain number of markers, provide a code block following the exact structure of the example provided below.\n",
    "Below are guidelines you must always follow.\n",
    "\n",
    "1. Place the marker number specified in the prompt in the example structure provided below. Make sure to place the correct marker number as specified in channel_dict in SpatialTargetC.\n",
    "\n",
    "2. Always provide the full structure provided below, do not skip out or show only specific parts.\n",
    "\n",
    "3. If no colors are specified, please choose any color but have it be different for each unless specified otherwise.\n",
    "Ensure the code block is complete, in valid syntax, and without comments or markdown.\n",
    "\n",
    "4. If a region related query is asked, only then call the find_high_interaction_regions tool. Grab the first x,y coordinate returned from the tool and place it in the example\n",
    "structured provided below in spatialTargetX and spatialTargetY along with the markers they had specifed in the strucutre. Also, make sure to set the zoom to -1.5 for region queries.\n",
    "5. You should be able to understand some of the vague or natural language the users use to the best of your knowledge and identify what markers they may be indicating.\n",
    "tThink about Provide an explanantion of what you chose and\n",
    "the functions of that marker.\n",
    "\n",
    "When asked for a region with a combination of low and high markers please show both.\n",
    "\n",
    "6. Do not display or choose any markers outside of the provided to you in the channel_dict. Only provide description and code block/region for the ones within the dict. If the related markers do not exist in\n",
    "the list, simply say there aren't any of those markers available to view.\n",
    "\n",
    "7. If you are provided with a list of coordinates and asked a query on what's happening here, use the tool find_channel_means_at_coords which will provide you the average channel mean\n",
    "at those regions, the overall channel mean across the tissue, max of that channel and min. Interpret those values and provide the user with a description with what is happening there\n",
    "along with a selection of the markers you are talking about. Do not display anymore than 6 important markers but feel free to talk about more in the description.\n",
    "\n",
    "8. When a vague or odd question is asked think more about it in context of the tissue and the channel markers provided and answer the question. Please rememeber the user can be a student who\n",
    "may not know all the terminology.\n",
    "\n",
    "Structure example (always start with ```python):\n",
    "\n",
    "vc.link_views_by_dict([spatial, lc], {{\n",
    "    \"spatialTargetT\": 0,\n",
    "    \"spatialZoom\": -3.56,\n",
    "    \"spatialTargetX\": 6478,\n",
    "    \"spatialTargetY\": 2215,\n",
    "    \"spatialTargetZ\": 100,\n",
    "    \"spatialRenderingMode\": \"2D\",\n",
    "    \"imageLayer\": CL([\n",
    "      {{\n",
    "        \"spatialTargetResolution\": 3,\n",
    "        \"spatialLayerOpacity\": 1.0,\n",
    "        \"spatialLayerVisible\": True,\n",
    "        \"photometricInterpretation\": \"BlackIsZero\",\n",
    "        \"imageChannel\": CL([\n",
    "          {{\n",
    "            \"spatialTargetC\": 45,\n",
    "            \"spatialChannelColor\": [255,0,255],\n",
    "            \"spatialChannelVisible\": True,\n",
    "            \"spatialChannelOpacity\": 1.0,\n",
    "              \"spatialChannelWindow\": [0, 100],\n",
    "          }}\n",
    "\n",
    "          ])\n",
    "      }}\n",
    "\n",
    "    ]),\n",
    "}}, meta=True, scope_prefix=get_initial_coordination_scope_prefix(\"bv\", \"image\"))\n",
    "\n",
    "\n",
    "channel_dict:\n",
    "\n",
    "['Hoechst': 66,\n",
    " \"5'hmC\": 1,\n",
    " 'MX1': 2,\n",
    " 'MART1': 3,\n",
    " 'CD3E (do not use)': 5,\n",
    " 'MHC-I': 6,\n",
    " 'SOX10': 7,\n",
    " 'S100B': 9,\n",
    " 'MITF': 10,\n",
    " 'GranzymeB (do not use)': 11,\n",
    " 'pan-cytokeratin': 13,\n",
    " 'lamin-ABC': 14,\n",
    " 'PDL1': 15,\n",
    " 'PD1 (do not use)': 17,\n",
    " 'S100A': 18,\n",
    " 'CD31': 19,\n",
    " 'CD206': 21,\n",
    " 'pMLC2': 22,\n",
    " 'CD11b (do not use)': 23,\n",
    " 'CD4': 25,\n",
    " 'LAG3': 26,\n",
    " 'CD20': 27,\n",
    " 'PRAME': 29,\n",
    " 'CD163': 30,\n",
    " 'IRF1': 31,\n",
    " 'B-catenin': 33,\n",
    " 'CD3E': 34,\n",
    " 'CD8a': 35,\n",
    " 'CD11b': 37,\n",
    " 'FOXP3': 38,\n",
    " 'PD1': 39,\n",
    " 'Ki67': 41,\n",
    " 'CD11c': 42,\n",
    " 'COX-IV': 43,\n",
    " 'LysozymeC': 45,\n",
    " 'SOX9': 46,\n",
    " 'PMEL': 47,\n",
    " 'CD103': 48,\n",
    " 'CyclinD1': 50,\n",
    " 'BAF1': 51,\n",
    " 'B-actin': 53,\n",
    " 'Mast cell tryptase': 54,\n",
    " 'CD15': 55,\n",
    " 'Podoplanin': 56,\n",
    " 'B-tubulin': 58,\n",
    " 'Catalase': 59,\n",
    " 'y-H2AX': 60,\n",
    " 'E-cadherin': 62,\n",
    " 'Vimentin': 63,\n",
    " 'Neurofilament L (do not use)': 64,\n",
    " 'GranzymeB': 65,\n",
    " 'MHC-II': 67,\n",
    " 'H3K27me3': 68,\n",
    " 'Collagen (SHG)': 69]\n",
    "\n",
    "\"\"\"\n"
   ]
  },
  {
   "cell_type": "markdown",
   "metadata": {
    "id": "lpUNlcuXPZdZ"
   },
   "source": [
    "# Tool Calling Agent + Combined Functions"
   ]
  },
  {
   "cell_type": "code",
   "execution_count": 14,
   "metadata": {
    "id": "e-Eq7ykfzrA4"
   },
   "outputs": [],
   "source": [
    "tools = [find_high_interaction_regions, find_low_interaction_regions, find_high_low_interaction_regions, find_channel_means_at_coords]\n",
    "prompt = ChatPromptTemplate.from_messages(\n",
    "    [\n",
    "        (\"system\", promptexample),\n",
    "        (\"placeholder\", \"{chat_history}\"),\n",
    "        (\"human\", \"{input}\"),\n",
    "        (\"placeholder\", \"{agent_scratchpad}\"),\n",
    "    ]\n",
    ")\n",
    "agent = create_tool_calling_agent(llm, tools, prompt)\n",
    "agent_executor = AgentExecutor(agent=agent, tools=tools, verbose=False)"
   ]
  },
  {
   "cell_type": "code",
   "execution_count": 15,
   "metadata": {
    "colab": {
     "base_uri": "https://localhost:8080/",
     "height": 176
    },
    "id": "PaGlrOO-xx94",
    "outputId": "6cf401ea-2730-453e-a4c0-93c819ef2a15"
   },
   "outputs": [
    {
     "ename": "NameError",
     "evalue": "name 'send_button' is not defined",
     "output_type": "error",
     "traceback": [
      "\u001b[0;31m---------------------------------------------------------------------------\u001b[0m",
      "\u001b[0;31mNameError\u001b[0m                                 Traceback (most recent call last)",
      "\u001b[0;32m<ipython-input-15-ba52416271cf>\u001b[0m in \u001b[0;36m<cell line: 68>\u001b[0;34m()\u001b[0m\n\u001b[1;32m     66\u001b[0m                 \u001b[0mprint\u001b[0m\u001b[0;34m(\u001b[0m\u001b[0;34mf\"Error: {e}\"\u001b[0m\u001b[0;34m)\u001b[0m\u001b[0;34m\u001b[0m\u001b[0;34m\u001b[0m\u001b[0m\n\u001b[1;32m     67\u001b[0m \u001b[0;34m\u001b[0m\u001b[0m\n\u001b[0;32m---> 68\u001b[0;31m \u001b[0msend_button\u001b[0m\u001b[0;34m.\u001b[0m\u001b[0mon_click\u001b[0m\u001b[0;34m(\u001b[0m\u001b[0msend_message\u001b[0m\u001b[0;34m)\u001b[0m\u001b[0;34m\u001b[0m\u001b[0;34m\u001b[0m\u001b[0m\n\u001b[0m",
      "\u001b[0;31mNameError\u001b[0m: name 'send_button' is not defined"
     ]
    }
   ],
   "source": [
    "# def send_message(_):\n",
    "#     global vw\n",
    "#     user_input = input_box.value\n",
    "\n",
    "#     payload = {\"input\": user_input}\n",
    "#     config = vw.config\n",
    "\n",
    "#     if (config.get('coordinationSpace') and\n",
    "#         config['coordinationSpace'].get('obsSetSelection') and\n",
    "#         config['coordinationSpace']['obsSetSelection'].get('A') and\n",
    "#         config['coordinationSpace']['obsSetSelection']['A']):\n",
    "\n",
    "#         selection_path = config['coordinationSpace']['obsSetSelection']['A'][0]\n",
    "\n",
    "#         additional_obs_sets = config['coordinationSpace'].get('additionalObsSets', {}).get('A')\n",
    "\n",
    "#         if additional_obs_sets and 'tree' in additional_obs_sets:\n",
    "#             additional_obs_sets_tree = additional_obs_sets['tree']\n",
    "\n",
    "#             selection_details = None\n",
    "#             for item in additional_obs_sets_tree:\n",
    "#                 if item['name'] == selection_path[0]:\n",
    "#                     for child in item.get('children', []):\n",
    "#                         if child['name'] == selection_path[1]:  # \"Selection 1\"\n",
    "#                             selection_details = child['set']\n",
    "\n",
    "#             if selection_details:\n",
    "#                 selection_ids = [int(item[0]) for item in selection_details]\n",
    "#                 filtered_df = df.loc[selection_ids]\n",
    "\n",
    "#                 if isinstance(filtered_df['vertices'].iloc[0], str):\n",
    "#                     filtered_df['vertices'] = filtered_df['vertices'].apply(ast.literal_eval)\n",
    "\n",
    "#                 first_vertices = filtered_df['vertices'].apply(lambda x: x[0] if isinstance(x, list) and len(x) > 0 else None)\n",
    "#                 first_vertices_list = first_vertices.tolist()\n",
    "#                 first_vertices_list = [(int(x), int(y)) for (x, y) in first_vertices_list]\n",
    "#                 print(first_vertices_list)\n",
    "\n",
    "#                 payload[\"selection1\"] = first_vertices_list\n",
    "\n",
    "#     responseagent = agent_executor.invoke(payload)\n",
    "#     # print(responseagent)\n",
    "#     input_text = responseagent['input']\n",
    "#     output_text = responseagent['output']\n",
    "#     parts = output_text.split(\"```python\")\n",
    "#     descr = parts[0].strip()\n",
    "#     print(f\"You: {user_input}\\nGPT: {descr}\")\n",
    "#     json_code_block = re.search(r'```python\\n(.*?)\\n```', output_text, re.DOTALL).group(1)\n",
    "\n",
    "\n",
    "#     if json_code_block:\n",
    "#         try:\n",
    "\n",
    "#             exec(json_code_block, globals())\n",
    "#             # obs.use_coordination(obs_set_selection_scope)\n",
    "#             # obs.use_coordination(obs_set_color_scope)\n",
    "#             # obs.use_coordination(additional_obs_sets_scope)\n",
    "#             vw.close()\n",
    "#             vw = vc.widget(js_package_version=\"3.4.5\", remount_on_uid_change=False, plugins=[BrickOpacityPlugin()])\n",
    "#             display(vw)\n",
    "#         except SyntaxError as e:\n",
    "#             with chat_output:\n",
    "#                 print(f\"Error: {e}\")\n",
    "#         except Exception as e:\n",
    "#             with chat_output:\n",
    "#                 print(f\"Error: {e}\")\n",
    "\n",
    "# send_button.on_click(send_message)"
   ]
  },
  {
   "cell_type": "markdown",
   "metadata": {
    "id": "qgBl6iCjfQSK"
   },
   "source": [
    "# Vitessce Chat Widget PlugIn"
   ]
  },
  {
   "cell_type": "code",
   "execution_count": null,
   "metadata": {
    "id": "eRIAf1u3KCHL"
   },
   "outputs": [],
   "source": [
    "PLUGIN_ESM = transform(\"\"\"\n",
    "function createPlugins(utilsForPlugins) {\n",
    "    const {\n",
    "        React,\n",
    "        PluginFileType,\n",
    "        PluginViewType,\n",
    "        PluginCoordinationType,\n",
    "        PluginJointFileType,\n",
    "        z,\n",
    "        useCoordination,\n",
    "        invokeCommand\n",
    "    } = utilsForPlugins;\n",
    "\n",
    "    const CSS = `\n",
    "        .chat {\n",
    "            overflow-y: scroll;\n",
    "        }\n",
    "    `;\n",
    "\n",
    "    function ChatView(props) {\n",
    "        const [nextMessage, setNextMessage] = React.useState('');\n",
    "        const [isLoading, setIsLoading] = React.useState(false);\n",
    "        const [chatHistory, setChatHistory] = React.useState([]);\n",
    "        const inputRef = React.useRef(null); // Reference for the input field\n",
    "\n",
    "        async function handleClick() {\n",
    "            if (!nextMessage.trim()) return; // Prevent sending empty messages\n",
    "            setChatHistory(prev => ([\n",
    "                ...prev,\n",
    "                { user: 'You', text: nextMessage },\n",
    "            ]));\n",
    "            setIsLoading(true);\n",
    "\n",
    "            try {\n",
    "                const [chatReceiveValue, chatReceiveBuffers] = await invokeCommand(\"chat_send\", nextMessage, []);\n",
    "                setChatHistory(prev => ([\n",
    "                    ...prev,\n",
    "                    { user: 'AI', text: chatReceiveValue.text },\n",
    "                ]));\n",
    "            } catch (error) {\n",
    "                console.error(\"Error during chat interaction:\", error);\n",
    "            }\n",
    "\n",
    "            setIsLoading(false);\n",
    "            setNextMessage(''); // Clear input after message sent\n",
    "            inputRef.current.focus(); // Refocus the input field\n",
    "        }\n",
    "\n",
    "        return (\n",
    "            <>\n",
    "                <style>{CSS}</style>\n",
    "                <div className=\"chat\">\n",
    "                    <p>Chat view</p>\n",
    "                    <div>\n",
    "                        {chatHistory.map((message, index) => (\n",
    "                            <p key={`${index}`}>\n",
    "                                <b>{message.user}</b>: {message.text}\n",
    "                            </p>\n",
    "                        ))}\n",
    "                    </div>\n",
    "                    <input\n",
    "                        type=\"text\"\n",
    "                        value={nextMessage}\n",
    "                        onChange={e => setNextMessage(e.target.value)}\n",
    "                        ref={inputRef} // Assign the ref to the input\n",
    "                        onKeyDown={(e) => {\n",
    "                            if (e.key === 'Enter' && !isLoading) {\n",
    "                                handleClick();\n",
    "                            }\n",
    "                        }}\n",
    "                    />\n",
    "                    <button onClick={handleClick} enabled={isLoading}>Send message</button>\n",
    "                </div>\n",
    "            </>\n",
    "        );\n",
    "    }\n",
    "\n",
    "    const pluginViewTypes = [\n",
    "        new PluginViewType('chat', ChatView, []),\n",
    "    ];\n",
    "    return { pluginViewTypes };\n",
    "}\n",
    "export default { createPlugins };\n",
    "\n",
    "\n",
    "\n",
    "\"\"\")\n",
    "\n",
    "vw = None\n",
    "\n",
    "\n",
    "\n",
    "# def send_message(message, buffers):\n",
    "#     global vw\n",
    "#     if vw is None:\n",
    "#         print(\"Widget not initialized.\")\n",
    "#         return\n",
    "\n",
    "#     # Get the old configuration from the widget\n",
    "#     old_config = copy.deepcopy(vw.config)\n",
    "\n",
    "#     user_input = message\n",
    "#     payload = {\"input\": user_input}\n",
    "\n",
    "#     # Get the response from the agent\n",
    "#     responseagent = agent_executor.invoke(payload)\n",
    "#     input_text = responseagent['input']\n",
    "#     output_text = responseagent['output']\n",
    "#     parts = output_text.split(\"```python\")\n",
    "#     descr = parts[0].strip()\n",
    "\n",
    "#     # Check if there's a JSON code block, and extract it\n",
    "#     json_code_block = re.search(r'```python\\n(.*?)\\n```', output_text, re.DOTALL)\n",
    "#     if json_code_block:\n",
    "#         json_code_block = json_code_block.group(1)\n",
    "\n",
    "#         # Extract only the required parts for spatialTargetC from the json_code_block\n",
    "#         new_spatial_target_c = None\n",
    "#         if \"spatialTargetC\" in json_code_block:\n",
    "#             # Find the spatialTargetC line\n",
    "#             match = re.search(r'\"spatialTargetC\":\\s*(\\d+)', json_code_block)\n",
    "#             if match:\n",
    "#                 new_spatial_target_c = int(match.group(1))\n",
    "\n",
    "#         if new_spatial_target_c is not None:\n",
    "#             # Merge the new spatialTargetC value into old_config\n",
    "#             if 'coordinationSpace' in old_config and 'spatialTargetC' in old_config['coordinationSpace']:\n",
    "#                 old_config['coordinationSpace']['spatialTargetC']['init_bv_image_0'] = new_spatial_target_c\n",
    "\n",
    "#             # Generate a new UID to trigger update\n",
    "#             updated_uid = f\"with_spatial_target_{uuid.uuid4().hex}\"\n",
    "#             old_config[\"uid\"] = updated_uid\n",
    "\n",
    "#             # Update the widget with the new configuration\n",
    "#             vw.config = old_config\n",
    "\n",
    "#             # Trigger re-render if required\n",
    "#             if hasattr(vw, 'force_render'):\n",
    "#                 vw.force_render()\n",
    "\n",
    "#             # Return updated config with new UID\n",
    "#             return {**old_config, \"uid\": updated_uid}, []\n",
    "#         else:\n",
    "#             print(\"spatialTargetC not found or invalid in json_code_block.\")\n",
    "#             return {\"text\": \"spatialTargetC not found in the configuration.\"}, []\n",
    "\n",
    "#     else:\n",
    "#         print(\"No JSON code block found.\")\n",
    "#         return {\"text\": descr}, []\n",
    "\n",
    "\n",
    "class ChatPlugin(VitesscePlugin):\n",
    "    plugin_esm = PLUGIN_ESM\n",
    "    commands = {\n",
    "        \"chat_send\": send_message,\n",
    "    }"
   ]
  },
  {
   "cell_type": "code",
   "execution_count": null,
   "metadata": {
    "id": "NC6aJnUXM5xj"
   },
   "outputs": [],
   "source": [
    "# def send_message(message, buffers):\n",
    "#     global vw\n",
    "#     if vw is None:\n",
    "#         print(\"Widget not initialized.\")\n",
    "#         return\n",
    "\n",
    "#     # Get the old configuration from the widget\n",
    "#     old_config = copy.deepcopy(vw.config)\n",
    "\n",
    "#     user_input = message\n",
    "#     payload = {\"input\": user_input}\n",
    "\n",
    "#     # Get the response from the agent\n",
    "#     responseagent = agent_executor.invoke(payload)\n",
    "#     input_text = responseagent['input']\n",
    "#     output_text = responseagent['output']\n",
    "#     parts = output_text.split(\"```python\")\n",
    "#     descr = parts[0].strip()\n",
    "\n",
    "#     # Check if there's a JSON code block, and extract it\n",
    "#     json_code_block = re.search(r'```python\\n(.*?)\\n```', output_text, re.DOTALL)\n",
    "#     if json_code_block:\n",
    "#         json_code_block = json_code_block.group(1)\n",
    "\n",
    "#         # Extract values from the json_code_block\n",
    "#         new_values = {}\n",
    "\n",
    "#         # Extract spatialTargetC\n",
    "#         match = re.search(r'\"spatialTargetC\":\\s*(\\d+)', json_code_block)\n",
    "#         if match:\n",
    "#             new_values['spatialTargetC'] = int(match.group(1))\n",
    "\n",
    "#         # Extract spatialZoom\n",
    "#         match = re.search(r'\"spatialZoom\":\\s*(-?\\d+\\.?\\d*)', json_code_block)\n",
    "#         if match:\n",
    "#             new_values['spatialZoom'] = float(match.group(1))\n",
    "\n",
    "#         # Extract spatialTargetX\n",
    "#         match = re.search(r'\"spatialTargetX\":\\s*(\\d+)', json_code_block)\n",
    "#         if match:\n",
    "#             new_values['spatialTargetX'] = int(match.group(1))\n",
    "\n",
    "#         # Extract spatialTargetY\n",
    "#         match = re.search(r'\"spatialTargetY\":\\s*(\\d+)', json_code_block)\n",
    "#         if match:\n",
    "#             new_values['spatialTargetY'] = int(match.group(1))\n",
    "\n",
    "#         # Extract spatialChannelColor\n",
    "#         match = re.search(r'\"spatialChannelColor\":\\s*\\[\\s*(\\d+),\\s*(\\d+),\\s*(\\d+)\\s*\\]', json_code_block)\n",
    "#         if match:\n",
    "#             new_values['spatialChannelColor'] = [int(match.group(1)), int(match.group(2)), int(match.group(3))]\n",
    "\n",
    "#         # Merge new values into old_config\n",
    "#         for key, value in new_values.items():\n",
    "#             if key in old_config['coordinationSpace']:\n",
    "#                 old_config['coordinationSpace'][key]['init_bv_image_0'] = value\n",
    "\n",
    "#         # Generate a new UID to trigger update\n",
    "#         updated_uid = f\"with_spatial_target_{uuid.uuid4().hex}\"\n",
    "#         old_config[\"uid\"] = updated_uid\n",
    "\n",
    "#         # Update the widget with the new configuration\n",
    "#         vw.config = old_config\n",
    "\n",
    "#         # Trigger re-render if required\n",
    "#         if hasattr(vw, 'force_render'):\n",
    "#             vw.force_render()\n",
    "\n",
    "#         # Return updated config with new UID\n",
    "#         return {**old_config, \"uid\": updated_uid}, []\n",
    "#     else:\n",
    "#         print(\"No JSON code block found.\")\n",
    "#         return {\"text\": descr}, []\n",
    "\n",
    "\n",
    "def send_message(message, buffers):\n",
    "    global vw\n",
    "    if vw is None:\n",
    "        print(\"Widget not initialized.\")\n",
    "        return\n",
    "\n",
    "    # Get the old configuration from the widget\n",
    "    old_config = copy.deepcopy(vw.config)\n",
    "\n",
    "    user_input = message\n",
    "    payload = {\"input\": user_input}\n",
    "\n",
    "    # Get the response from the agent\n",
    "    responseagent = agent_executor.invoke(payload)\n",
    "    input_text = responseagent['input']\n",
    "    output_text = responseagent['output']\n",
    "    parts = output_text.split(\"```python\")\n",
    "    descr = parts[0].strip()\n",
    "\n",
    "    # Check if there's a JSON code block, and extract it\n",
    "    json_code_block = re.search(r'```python\\n(.*?)\\n```', output_text, re.DOTALL)\n",
    "    if json_code_block:\n",
    "        json_code_block = json_code_block.group(1)\n",
    "\n",
    "        # Define the keys and their corresponding regex patterns\n",
    "        key_patterns = {\n",
    "            \"spatialTargetC\": r'\"spatialTargetC\":\\s*(\\d+)',\n",
    "            \"spatialZoom\": r'\"spatialZoom\":\\s*(-?\\d+\\.?\\d*)',\n",
    "            \"spatialTargetX\": r'\"spatialTargetX\":\\s*(\\d+)',\n",
    "            \"spatialTargetY\": r'\"spatialTargetY\":\\s*(\\d+)',\n",
    "            \"spatialChannelColor\": r'\"spatialChannelColor\":\\s*\\[\\s*(\\d+),\\s*(\\d+),\\s*(\\d+)\\s*\\]'\n",
    "        }\n",
    "\n",
    "        new_values = {}\n",
    "\n",
    "        # Extract values using the defined patterns\n",
    "        for key, pattern in key_patterns.items():\n",
    "            match = re.search(pattern, json_code_block)\n",
    "            if match:\n",
    "                if key == \"spatialChannelColor\":\n",
    "                    # Special handling for color, which is a list\n",
    "                    new_values[key] = [int(match.group(1)), int(match.group(2)), int(match.group(3))]\n",
    "                else:\n",
    "                    # Convert to appropriate type based on the key\n",
    "                    new_values[key] = float(match.group(1)) if '.' in match.group(1) else int(match.group(1))\n",
    "\n",
    "        for key, value in new_values.items():\n",
    "            if key in old_config['coordinationSpace']:\n",
    "                old_config['coordinationSpace'][key]['init_bv_image_0'] = value\n",
    "\n",
    "        # Generate a new UID to trigger update\n",
    "        updated_uid = f\"with_spatial_target_{uuid.uuid4().hex}\"\n",
    "        old_config[\"uid\"] = updated_uid\n",
    "\n",
    "        vw.config = old_config\n",
    "\n",
    "        # # Trigger re-render if required\n",
    "        # if hasattr(vw, 'force_render'):\n",
    "        #     vw.force_render()\n",
    "\n",
    "        # Return updated config with new UID\n",
    "        return {**old_config, \"uid\": updated_uid, \"text\": descr}, []\n",
    "    else:\n",
    "        return {\"text\": descr}, []\n",
    "\n",
    "\n",
    "class ChatPlugin(VitesscePlugin):\n",
    "    plugin_esm = PLUGIN_ESM\n",
    "    commands = {\n",
    "        \"chat_send\": send_message,\n",
    "    }"
   ]
  },
  {
   "cell_type": "code",
   "execution_count": null,
   "metadata": {
    "id": "63DFyPMEK4UZ"
   },
   "outputs": [],
   "source": [
    "vc = VitessceConfig(schema_version=\"1.0.16\", name=\"BioMedVis Challenge\")\n",
    "image_dataset = vc.add_dataset(name=\"Blood Vessel\", uid=\"bv\").add_file(\n",
    "    url=\"https://lsp-public-data.s3.amazonaws.com/yapp-2023-3d-melanoma/Dataset1-LSP13626-melanoma-in-situ/0\",\n",
    "    file_type=\"image.ome-zarr\"\n",
    "\n",
    ").add_object(\n",
    "    AnnDataWrapper(\n",
    "        adata_store=\"my_adata.zarr\",\n",
    "        obs_locations_path=\"obsm/centers\",\n",
    "        obs_segmentations_path=\"obsm/polygons\",\n",
    "        obs_set_paths=[\"obs/initial_sets\"],\n",
    "        obs_set_names=[\"Initial sets\"],\n",
    "    )\n",
    ")\n",
    "obs_set_selection_scope, obs_set_color_scope, additional_obs_sets_scope = vc.add_coordination(\"obsSetSelection\", \"obsSetColor\", \"additionalObsSets\")\n",
    "obs_set_selection_scope.set_value(None)\n",
    "obs_set_color_scope.set_value(None)\n",
    "additional_obs_sets_scope.set_value(None)\n",
    "\n",
    "spatial = vc.add_view(\"spatialBeta\", dataset=image_dataset)\n",
    "lc = vc.add_view(\"layerControllerBeta\", dataset=image_dataset)\n",
    "obs = vc.add_view(\"obsSets\", dataset=image_dataset)\n",
    "# spatial = vc.add_view(\"spatialBeta\", dataset=dataset)\n",
    "status = vc.add_view(\"chat\", dataset=image_dataset)\n",
    "# lc = vc.add_view(\"layerControllerBeta\", dataset=dataset)\n",
    "\n",
    "vc.link_views_by_dict([spatial, lc], {\n",
    "    \"spatialTargetT\": 0,\n",
    "    \"spatialZoom\": -3.54,\n",
    "    \"spatialTargetX\": 6000,\n",
    "    \"spatialTargetY\": 2215,\n",
    "    \"spatialTargetZ\": 100,\n",
    "    \"spatialRenderingMode\": \"2D\",\n",
    "    \"imageLayer\": CL([\n",
    "      {\n",
    "        \"spatialTargetResolution\": 3,\n",
    "        \"spatialLayerOpacity\": 1.0,\n",
    "        \"spatialLayerVisible\": True,\n",
    "        \"photometricInterpretation\": \"BlackIsZero\",\n",
    "        \"imageChannel\": CL([\n",
    "          {\n",
    "            \"spatialTargetC\": 25,\n",
    "            \"spatialChannelColor\": [0,100,0],\n",
    "            \"spatialChannelVisible\": True,\n",
    "            \"spatialChannelOpacity\": 1.0,\n",
    "          }\n",
    "\n",
    "          ])\n",
    "      }\n",
    "    ])\n",
    "}, meta=True, scope_prefix=get_initial_coordination_scope_prefix(\"bv\", \"image\"))\n",
    "\n",
    "vc.link_views_by_dict([spatial, lc], {\n",
    "    \"segmentationLayer\": CL([\n",
    "      {\n",
    "        \"spatialLayerVisible\": True,\n",
    "        \"spatialLayerOpacity\": 1.0,\n",
    "        \"segmentationChannel\": CL([\n",
    "          {\n",
    "            \"obsType\": 'cell',\n",
    "            \"spatialTargetC\": 0,\n",
    "            \"spatialChannelColor\": [255, 255, 255],\n",
    "            \"spatialChannelOpacity\": 0, # Note: opacity setting seems buggy (only becomes transparent with a very small value)\n",
    "            \"featureType\": 'gene',\n",
    "            \"featureValueType\": 'expression',\n",
    "            \"spatialChannelVisible\": True,\n",
    "            \"obsColorEncoding\": 'spatialChannelColor',\n",
    "            \"spatialSegmentationFilled\": False,\n",
    "            \"spatialSegmentationStrokeWidth\": 25,\n",
    "            \"obsHighlight\": None,\n",
    "            \"obsSetSelection\": obs_set_selection_scope,\n",
    "            \"obsSetColor\": obs_set_color_scope,\n",
    "            \"additionalObsSets\": additional_obs_sets_scope,\n",
    "          },\n",
    "        ])\n",
    "      }\n",
    "    ])\n",
    "}, meta=True, scope_prefix=get_initial_coordination_scope_prefix(\"bv\", \"obsSegmentations\"))\n",
    "\n",
    "obs.use_coordination(obs_set_selection_scope)\n",
    "obs.use_coordination(obs_set_color_scope)\n",
    "obs.use_coordination(additional_obs_sets_scope)\n",
    "\n",
    "# vc.layout(spatial | (lc / obs));\n",
    "vc.layout((spatial / status ) | (lc / obs));\n",
    "# vw = vc.widget(js_package_version=\"3.4.5\", remount_on_uid_change=False)"
   ]
  },
  {
   "cell_type": "code",
   "execution_count": null,
   "metadata": {
    "id": "y4Tz5RDRK597"
   },
   "outputs": [],
   "source": [
    "vw = vc.widget(js_package_version=\"3.4.5\", remount_on_uid_change=False, plugins=[ChatPlugin(), BrickOpacityPlugin ()])\n",
    "vw"
   ]
  },
  {
   "cell_type": "code",
   "execution_count": null,
   "metadata": {
    "id": "n6HDtshW9cJ_"
   },
   "outputs": [],
   "source": [
    "vw.config"
   ]
  }
 ],
 "metadata": {
  "colab": {
   "collapsed_sections": [
    "XElt06sNh2bU",
    "JHKPruC6h-zE",
    "ZgDKLGMrjWSs",
    "RPToCbs9jarV",
    "v5Rr20HCpRzR",
    "lpUNlcuXPZdZ"
   ],
   "provenance": []
  },
  "kernelspec": {
   "display_name": "Python 3 (ipykernel)",
   "language": "python",
   "name": "python3"
  },
  "language_info": {
   "codemirror_mode": {
    "name": "ipython",
    "version": 3
   },
   "file_extension": ".py",
   "mimetype": "text/x-python",
   "name": "python",
   "nbconvert_exporter": "python",
   "pygments_lexer": "ipython3",
   "version": "3.10.6"
  },
  "widgets": {
   "application/vnd.jupyter.widget-state+json": {
    "537a7f2c3a8844d39e2a80135b82dfb2": {
     "model_module": "@jupyter-widgets/base",
     "model_module_version": "1.2.0",
     "model_name": "LayoutModel",
     "state": {
      "_model_module": "@jupyter-widgets/base",
      "_model_module_version": "1.2.0",
      "_model_name": "LayoutModel",
      "_view_count": null,
      "_view_module": "@jupyter-widgets/base",
      "_view_module_version": "1.2.0",
      "_view_name": "LayoutView",
      "align_content": null,
      "align_items": null,
      "align_self": null,
      "border": null,
      "bottom": null,
      "display": null,
      "flex": null,
      "flex_flow": null,
      "grid_area": null,
      "grid_auto_columns": null,
      "grid_auto_flow": null,
      "grid_auto_rows": null,
      "grid_column": null,
      "grid_gap": null,
      "grid_row": null,
      "grid_template_areas": null,
      "grid_template_columns": null,
      "grid_template_rows": null,
      "height": null,
      "justify_content": null,
      "justify_items": null,
      "left": null,
      "margin": null,
      "max_height": null,
      "max_width": null,
      "min_height": null,
      "min_width": null,
      "object_fit": null,
      "object_position": null,
      "order": null,
      "overflow": null,
      "overflow_x": null,
      "overflow_y": null,
      "padding": null,
      "right": null,
      "top": null,
      "visibility": null,
      "width": null
     }
    },
    "c927a8cdc5eb4969abce94743c57cd5f": {
     "model_module": "anywidget",
     "model_module_version": "~0.9.*",
     "model_name": "AnyModel",
     "state": {
      "_anywidget_id": "vitessce.widget.VitessceWidget",
      "_dom_classes": [],
      "_esm": "\nimport { importWithMap } from 'https://unpkg.com/dynamic-importmap@0.1.0';\nconst importMap = {\n  imports: {\n    \"react\": \"https://esm.sh/react@18.2.0?dev\",\n    \"react-dom\": \"https://esm.sh/react-dom@18.2.0?dev\",\n    \"react-dom/client\": \"https://esm.sh/react-dom@18.2.0/client?dev\",\n  },\n};\n\nconst React = await importWithMap(\"react\", importMap);\nconst { createRoot } = await importWithMap(\"react-dom/client\", importMap);\n\nconst e = React.createElement;\n\nconst prefersDark = window.matchMedia && window.matchMedia('(prefers-color-scheme: dark)').matches;\n\n// The jupyter server may be running through a proxy,\n// which means that the client needs to prepend the part of the URL before /proxy/8000 such as\n// https://hub.gke2.mybinder.org/user/vitessce-vitessce-python-swi31vcv/proxy/8000/A/0/cells\nfunction prependBaseUrl(config, proxy, hasHostName) {\n  if(!proxy || hasHostName) {\n    return config;\n  }\n  const { origin } = new URL(window.location.href);\n  let baseUrl;\n  const jupyterLabConfigEl = document.getElementById('jupyter-config-data');\n\n  if (jupyterLabConfigEl) {\n    // This is jupyter lab\n    baseUrl = JSON.parse(jupyterLabConfigEl.textContent || '').baseUrl;\n  } else {\n    // This is jupyter notebook\n    baseUrl = document.getElementsByTagName('body')[0].getAttribute('data-base-url');\n  }\n  return {\n    ...config,\n    datasets: config.datasets.map(d => ({\n      ...d,\n      files: d.files.map(f => ({\n        ...f,\n        url: `${origin}${baseUrl}${f.url}`,\n      })),\n    })),\n  };\n}\n\nasync function render(view) {\n    const cssUid = view.model.get('uid');\n    const jsDevMode = view.model.get('js_dev_mode');\n    const jsPackageVersion = view.model.get('js_package_version');\n    const customJsUrl = view.model.get('custom_js_url');\n    const pluginEsmArr = view.model.get('plugin_esm');\n    const remountOnUidChange = view.model.get('remount_on_uid_change');\n    const storeUrls = view.model.get('store_urls');\n\n    const pkgName = (jsDevMode ? \"@vitessce/dev\" : \"vitessce\");\n\n    importMap.imports[\"vitessce\"] = (customJsUrl.length > 0\n        ? customJsUrl\n        : `https://unpkg.com/${pkgName}@${jsPackageVersion}`\n    );\n\n    const {\n        Vitessce,\n        PluginFileType,\n        PluginViewType,\n        PluginCoordinationType,\n        PluginJointFileType,\n        z,\n        useCoordination,\n    } = await importWithMap(\"vitessce\", importMap);\n\n    let pluginViewTypes = [];\n    let pluginCoordinationTypes = [];\n    let pluginFileTypes = [];\n    let pluginJointFileTypes = [];\n\n    const stores = Object.fromEntries(\n        storeUrls.map(storeUrl => ([\n            storeUrl,\n            {\n                async get(key) {\n                    const [data, buffers] = await view.experimental.invoke(\"_zarr_get\", [storeUrl, key]);\n                    if (!data.success) return undefined;\n                    return buffers[0].buffer;\n                },\n            }\n        ])),\n    );\n\n    function invokePluginCommand(commandName, commandParams, commandBuffers) {\n        return view.experimental.invoke(\"_plugin_command\", [commandName, commandParams], commandBuffers);\n    }\n\n    for (const pluginEsm of pluginEsmArr) {\n        try {\n            const pluginEsmUrl = URL.createObjectURL(new Blob([pluginEsm], { type: \"text/javascript\" }));\n            const pluginModule = (await import(pluginEsmUrl)).default;\n            URL.revokeObjectURL(pluginEsmUrl);\n\n            const pluginsObj = await pluginModule.createPlugins({\n                React,\n                PluginFileType,\n                PluginViewType,\n                PluginCoordinationType,\n                PluginJointFileType,\n                z,\n                useCoordination,\n                invokeCommand: invokePluginCommand,\n            });\n            if(Array.isArray(pluginsObj.pluginViewTypes)) {\n                pluginViewTypes = [...pluginViewTypes, ...pluginsObj.pluginViewTypes];\n            }\n            if(Array.isArray(pluginsObj.pluginCoordinationTypes)) {\n                pluginCoordinationTypes = [...pluginCoordinationTypes, ...pluginsObj.pluginCoordinationTypes];\n            }\n            if(Array.isArray(pluginsObj.pluginFileTypes)) {\n                pluginFileTypes = [...pluginFileTypes, ...pluginsObj.pluginFileTypes];\n            }\n            if(Array.isArray(pluginsObj.pluginJointFileTypes)) {\n                pluginJointFileTypes = [...pluginJointFileTypes, ...pluginsObj.pluginJointFileTypes];\n            }\n        } catch(e) {\n            console.error(e);\n        }\n    }\n\n    function VitessceWidget(props) {\n        const { model } = props;\n\n        const [config, setConfig] = React.useState(prependBaseUrl(model.get('config'), model.get('proxy'), model.get('has_host_name')));\n        const [validateConfig, setValidateConfig] = React.useState(true);\n        const height = model.get('height');\n        const theme = model.get('theme') === 'auto' ? (prefersDark ? 'dark' : 'light') : model.get('theme');\n\n        const divRef = React.useRef();\n\n        React.useEffect(() => {\n            if(!divRef.current) {\n                return () => {};\n            }\n\n            function handleMouseEnter() {\n                const jpn = divRef.current.closest('.jp-Notebook');\n                if(jpn) {\n                    jpn.style.overflow = \"hidden\";\n                }\n            }\n            function handleMouseLeave(event) {\n                if(event.relatedTarget === null || (event.relatedTarget && event.relatedTarget.closest('.jp-Notebook')?.length)) return;\n                const jpn = divRef.current.closest('.jp-Notebook');\n                if(jpn) {\n                    jpn.style.overflow = \"auto\";\n                }\n            }\n            divRef.current.addEventListener(\"mouseenter\", handleMouseEnter);\n            divRef.current.addEventListener(\"mouseleave\", handleMouseLeave);\n\n            return () => {\n                if(divRef.current) {\n                    divRef.current.removeEventListener(\"mouseenter\", handleMouseEnter);\n                    divRef.current.removeEventListener(\"mouseleave\", handleMouseLeave);\n                }\n            };\n        }, [divRef]);\n\n        // Config changed on JS side (from within <Vitessce/>),\n        // send updated config to Python side.\n        const onConfigChange = React.useCallback((config) => {\n            model.set('config', config);\n            setValidateConfig(false);\n            model.save_changes();\n        }, [model]);\n\n        // Config changed on Python side,\n        // pass to <Vitessce/> component to it is updated on JS side.\n        React.useEffect(() => {\n            model.on('change:config', () => {\n                const newConfig = prependBaseUrl(model.get('config'), model.get('proxy'), model.get('has_host_name'));\n\n                // Force a re-render and re-validation by setting a new config.uid value.\n                // TODO: make this conditional on a parameter from Python.\n                //newConfig.uid = `random-${Math.random()}`;\n                //console.log('newConfig', newConfig);\n                setConfig(newConfig);\n            });\n        }, []);\n\n        const vitessceProps = {\n            height, theme, config, onConfigChange, validateConfig,\n            pluginViewTypes, pluginCoordinationTypes, pluginFileTypes, pluginJointFileTypes,\n            remountOnUidChange, stores,\n        };\n\n        return e('div', { ref: divRef, style: { height: height + 'px' } },\n            e(React.Suspense, { fallback: e('div', {}, 'Loading...') },\n                e(React.StrictMode, {},\n                    e(Vitessce, vitessceProps)\n                ),\n            ),\n        );\n    }\n\n    const root = createRoot(view.el);\n    root.render(e(VitessceWidget, { model: view.model }));\n\n    return () => {\n        // Re-enable scrolling.\n        const jpn = view.el.closest('.jp-Notebook');\n        if(jpn) {\n            jpn.style.overflow = \"auto\";\n        }\n\n        // Clean up React and DOM state.\n        root.unmount();\n        if(view._isFromDisplay) {\n            view.el.remove();\n        }\n    };\n}\nexport default { render };\n",
      "_model_module": "anywidget",
      "_model_module_version": "~0.9.*",
      "_model_name": "AnyModel",
      "_view_count": null,
      "_view_module": "anywidget",
      "_view_module_version": "~0.9.*",
      "_view_name": "AnyView",
      "config": {
       "coordinationSpace": {
        "additionalObsSets": {
         "A": null,
         "B": null
        },
        "dataset": {
         "A": "bv",
         "init_bv_image_0": "init_bv_image_0",
         "init_bv_obsSegmentations_0": "init_bv_obsSegmentations_0"
        },
        "featureHighlight": {
         "A": null
        },
        "featureSelection": {
         "A": null
        },
        "featureType": {
         "A": "gene",
         "init_bv_obsSegmentations_0": "gene"
        },
        "featureValueColormap": {
         "A": "plasma"
        },
        "featureValueColormapRange": {
         "A": [
          0,
          1
         ]
        },
        "featureValueType": {
         "A": "expression",
         "init_bv_obsSegmentations_0": "expression"
        },
        "fileUid": {
         "A": null,
         "init_bv_image_0": null,
         "init_bv_obsSegmentations_0": null
        },
        "imageChannel": {
         "A": null,
         "init_bv_image_0": "__dummy__",
         "init_bv_image_1": "__dummy__",
         "init_bv_image_2": "__dummy__",
         "init_bv_image_3": "__dummy__",
         "init_bv_image_4": "__dummy__"
        },
        "imageLayer": {
         "A": null,
         "init_bv_image_0": "__dummy__"
        },
        "legendVisible": {
         "A": true
        },
        "metaCoordinationScopes": {
         "init_bv_image_0": {
          "imageLayer": [
           "init_bv_image_0"
          ],
          "spatialImageLayer": "init_bv_image_0",
          "spatialRenderingMode": "init_bv_image_0",
          "spatialTargetT": "init_bv_image_0",
          "spatialTargetX": "init_bv_image_0",
          "spatialTargetY": "init_bv_image_0",
          "spatialTargetZ": "init_bv_image_0",
          "spatialZoom": "init_bv_image_0"
         },
         "init_bv_obsSegmentations_0": {
          "segmentationLayer": [
           "init_bv_obsSegmentations_0"
          ],
          "spatialSegmentationLayer": "init_bv_obsSegmentations_0"
         }
        },
        "metaCoordinationScopesBy": {
         "init_bv_image_0": {
          "imageChannel": {
           "spatialChannelColor": {
            "init_bv_image_0": "init_bv_image_0",
            "init_bv_image_1": "init_bv_image_1",
            "init_bv_image_2": "init_bv_image_2",
            "init_bv_image_3": "init_bv_image_3",
            "init_bv_image_4": "init_bv_image_4"
           },
           "spatialChannelOpacity": {
            "init_bv_image_0": "init_bv_image_0",
            "init_bv_image_1": "init_bv_image_1",
            "init_bv_image_2": "init_bv_image_2",
            "init_bv_image_3": "init_bv_image_3",
            "init_bv_image_4": "init_bv_image_4"
           },
           "spatialChannelVisible": {
            "init_bv_image_0": "init_bv_image_0",
            "init_bv_image_1": "init_bv_image_1",
            "init_bv_image_2": "init_bv_image_2",
            "init_bv_image_3": "init_bv_image_3",
            "init_bv_image_4": "init_bv_image_4"
           },
           "spatialChannelWindow": {
            "init_bv_image_0": "init_bv_image_0",
            "init_bv_image_1": "init_bv_image_1",
            "init_bv_image_2": "init_bv_image_2",
            "init_bv_image_3": "init_bv_image_3",
            "init_bv_image_4": "init_bv_image_4"
           },
           "spatialTargetC": {
            "init_bv_image_0": "init_bv_image_0",
            "init_bv_image_1": "init_bv_image_1",
            "init_bv_image_2": "init_bv_image_2",
            "init_bv_image_3": "init_bv_image_3",
            "init_bv_image_4": "init_bv_image_4"
           }
          },
          "imageLayer": {
           "fileUid": {
            "init_bv_image_0": "init_bv_image_0"
           },
           "imageChannel": {
            "init_bv_image_0": [
             "init_bv_image_0"
            ]
           },
           "photometricInterpretation": {
            "init_bv_image_0": "init_bv_image_0"
           },
           "spatialLayerOpacity": {
            "init_bv_image_0": "init_bv_image_0"
           },
           "spatialLayerVisible": {
            "init_bv_image_0": "init_bv_image_0"
           },
           "spatialTargetResolution": {
            "init_bv_image_0": "init_bv_image_0"
           },
           "volumetricRenderingAlgorithm": {
            "init_bv_image_0": "init_bv_image_0"
           }
          }
         },
         "init_bv_obsSegmentations_0": {
          "segmentationChannel": {
           "additionalObsSets": {
            "init_bv_obsSegmentations_0": "A"
           },
           "featureType": {
            "init_bv_obsSegmentations_0": "init_bv_obsSegmentations_0"
           },
           "featureValueType": {
            "init_bv_obsSegmentations_0": "init_bv_obsSegmentations_0"
           },
           "obsColorEncoding": {
            "init_bv_obsSegmentations_0": "init_bv_obsSegmentations_0"
           },
           "obsHighlight": {
            "init_bv_obsSegmentations_0": "init_bv_obsSegmentations_0"
           },
           "obsSetColor": {
            "init_bv_obsSegmentations_0": "A"
           },
           "obsSetSelection": {
            "init_bv_obsSegmentations_0": "A"
           },
           "obsType": {
            "init_bv_obsSegmentations_0": "init_bv_obsSegmentations_0"
           },
           "spatialChannelColor": {
            "init_bv_obsSegmentations_0": "init_bv_obsSegmentations_0"
           },
           "spatialChannelOpacity": {
            "init_bv_obsSegmentations_0": "init_bv_obsSegmentations_0"
           },
           "spatialChannelVisible": {
            "init_bv_obsSegmentations_0": "init_bv_obsSegmentations_0"
           },
           "spatialChannelWindow": {
            "init_bv_obsSegmentations_0": "init_bv_obsSegmentations_0"
           },
           "spatialSegmentationFilled": {
            "init_bv_obsSegmentations_0": "init_bv_obsSegmentations_0"
           },
           "spatialSegmentationStrokeWidth": {
            "init_bv_obsSegmentations_0": "init_bv_obsSegmentations_0"
           },
           "spatialTargetC": {
            "init_bv_obsSegmentations_0": "init_bv_obsSegmentations_0"
           }
          },
          "segmentationLayer": {
           "fileUid": {
            "init_bv_obsSegmentations_0": "init_bv_obsSegmentations_0"
           },
           "segmentationChannel": {
            "init_bv_obsSegmentations_0": [
             "init_bv_obsSegmentations_0"
            ]
           },
           "spatialLayerOpacity": {
            "init_bv_obsSegmentations_0": "init_bv_obsSegmentations_0"
           },
           "spatialLayerVisible": {
            "init_bv_obsSegmentations_0": "init_bv_obsSegmentations_0"
           }
          }
         }
        },
        "moleculeHighlight": {
         "A": null
        },
        "obsColorEncoding": {
         "A": "cellSetSelection",
         "init_bv_obsSegmentations_0": "spatialChannelColor"
        },
        "obsFilter": {
         "A": null
        },
        "obsHighlight": {
         "A": null,
         "init_bv_obsSegmentations_0": null
        },
        "obsLabelsType": {
         "A": null
        },
        "obsSetColor": {
         "A": [
          {
           "color": [
            68,
            119,
            170
           ],
           "path": [
            "Initial sets"
           ]
          },
          {
           "color": [
            68,
            119,
            170
           ],
           "path": [
            "Initial sets",
            "test"
           ]
          }
         ],
         "B": null
        },
        "obsSetExpansion": {
         "A": null
        },
        "obsSetHighlight": {
         "A": null
        },
        "obsSetSelection": {
         "A": [
          [
           "Initial sets",
           "test"
          ]
         ],
         "B": null
        },
        "obsType": {
         "A": "cell",
         "init_bv_obsSegmentations_0": "cell"
        },
        "photometricInterpretation": {
         "A": null,
         "init_bv_image_0": "BlackIsZero"
        },
        "pixelHighlight": {
         "A": null
        },
        "pointLayer": {
         "A": null
        },
        "segmentationChannel": {
         "A": null,
         "init_bv_obsSegmentations_0": "__dummy__"
        },
        "segmentationLayer": {
         "A": null,
         "init_bv_obsSegmentations_0": "__dummy__"
        },
        "spatialAxisFixed": {
         "A": false
        },
        "spatialChannelColor": {
         "A": [
          255,
          255,
          255
         ],
         "init_bv_image_0": [
          255,
          0,
          255
         ],
         "init_bv_image_1": [
          0,
          255,
          0
         ],
         "init_bv_image_2": [
          255,
          151,
          0
         ],
         "init_bv_image_3": [
          0,
          158,
          0
         ],
         "init_bv_image_4": [
          255,
          255,
          255
         ],
         "init_bv_obsSegmentations_0": [
          255,
          255,
          255
         ]
        },
        "spatialChannelLabelSize": {
         "A": 14
        },
        "spatialChannelLabelsOrientation": {
         "A": "vertical"
        },
        "spatialChannelLabelsVisible": {
         "A": true
        },
        "spatialChannelOpacity": {
         "A": 1,
         "init_bv_image_0": 1,
         "init_bv_image_1": 1,
         "init_bv_image_2": 1,
         "init_bv_image_3": 1,
         "init_bv_image_4": 1,
         "init_bv_obsSegmentations_0": 0
        },
        "spatialChannelVisible": {
         "A": true,
         "init_bv_image_0": true,
         "init_bv_image_1": true,
         "init_bv_image_2": true,
         "init_bv_image_3": true,
         "init_bv_image_4": true,
         "init_bv_obsSegmentations_0": true
        },
        "spatialChannelWindow": {
         "A": null,
         "init_bv_image_0": [
          0,
          100
         ],
         "init_bv_image_1": [
          0,
          39023
         ],
         "init_bv_image_2": [
          0,
          34477
         ],
         "init_bv_image_3": [
          0,
          35333
         ],
         "init_bv_image_4": [
          0,
          33595
         ],
         "init_bv_obsSegmentations_0": null
        },
        "spatialImageLayer": {
         "init_bv_image_0": [
          {
           "channels": [
            {
             "color": [
              255,
              0,
              0
             ],
             "selection": {
              "c": 0,
              "t": 0,
              "z": 97
             },
             "slider": [
              0,
              34199
             ],
             "visible": true
            },
            {
             "color": [
              0,
              255,
              0
             ],
             "selection": {
              "c": 1,
              "t": 0,
              "z": 97
             },
             "slider": [
              0,
              39023
             ],
             "visible": true
            },
            {
             "color": [
              255,
              151,
              0
             ],
             "selection": {
              "c": 2,
              "t": 0,
              "z": 97
             },
             "slider": [
              0,
              34477
             ],
             "visible": true
            },
            {
             "color": [
              0,
              158,
              0
             ],
             "selection": {
              "c": 3,
              "t": 0,
              "z": 97
             },
             "slider": [
              0,
              35333
             ],
             "visible": true
            }
           ],
           "colormap": null,
           "domainType": "Min/Max",
           "index": 0,
           "modelMatrix": [
            0.13999999999999999,
            0,
            0,
            0,
            0,
            0.14,
            0,
            0,
            0,
            0,
            0.28,
            0,
            0,
            0,
            0,
            1
           ],
           "opacity": 1,
           "renderingMode": "Additive",
           "transparentColor": null,
           "type": "raster",
           "use3d": false,
           "visible": true
          }
         ]
        },
        "spatialLayerColor": {
         "A": null
        },
        "spatialLayerColormap": {
         "A": null
        },
        "spatialLayerModelMatrix": {
         "A": null
        },
        "spatialLayerOpacity": {
         "A": 1,
         "init_bv_image_0": 1,
         "init_bv_obsSegmentations_0": 1
        },
        "spatialLayerTransparentColor": {
         "A": null
        },
        "spatialLayerVisible": {
         "A": true,
         "init_bv_image_0": true,
         "init_bv_obsSegmentations_0": true
        },
        "spatialNeighborhoodLayer": {
         "A": null
        },
        "spatialOrbitAxis": {
         "A": "Y"
        },
        "spatialPointLayer": {
         "A": null
        },
        "spatialRenderingMode": {
         "A": "2D",
         "init_bv_image_0": "2D"
        },
        "spatialRotation": {
         "A": 0
        },
        "spatialRotationOrbit": {
         "A": 0
        },
        "spatialRotationX": {
         "A": 0
        },
        "spatialRotationY": {
         "A": 0
        },
        "spatialRotationZ": {
         "A": 0
        },
        "spatialSegmentationFilled": {
         "A": true,
         "init_bv_obsSegmentations_0": false
        },
        "spatialSegmentationLayer": {
         "init_bv_obsSegmentations_0": {
          "opacity": 1,
          "radius": 50,
          "stroked": false,
          "visible": true
         }
        },
        "spatialSegmentationStrokeWidth": {
         "A": 1,
         "init_bv_obsSegmentations_0": 25
        },
        "spatialSliceX": {
         "A": null
        },
        "spatialSliceY": {
         "A": null
        },
        "spatialSliceZ": {
         "A": null
        },
        "spatialSpotFilled": {
         "A": true
        },
        "spatialSpotRadius": {
         "A": 25
        },
        "spatialSpotStrokeWidth": {
         "A": 1
        },
        "spatialTargetC": {
         "A": null,
         "init_bv_image_0": 45,
         "init_bv_image_1": 1,
         "init_bv_image_2": 2,
         "init_bv_image_3": 3,
         "init_bv_image_4": 4,
         "init_bv_obsSegmentations_0": 0
        },
        "spatialTargetResolution": {
         "A": 0,
         "init_bv_image_0": 3
        },
        "spatialTargetT": {
         "A": null,
         "init_bv_image_0": 0
        },
        "spatialTargetX": {
         "A": null,
         "init_bv_image_0": 6478
        },
        "spatialTargetY": {
         "A": null,
         "init_bv_image_0": 2215
        },
        "spatialTargetZ": {
         "A": null,
         "B": null,
         "init_bv_image_0": 100
        },
        "spatialZoom": {
         "A": null,
         "init_bv_image_0": -3.55
        },
        "spotLayer": {
         "A": null
        },
        "tooltipCrosshairsVisible": {
         "A": true
        },
        "tooltipsVisible": {
         "A": true
        },
        "volumetricRenderingAlgorithm": {
         "A": "additive",
         "init_bv_image_0": "maximumIntensityProjection"
        }
       },
       "datasets": [
        {
         "files": [
          {
           "fileType": "image.ome-zarr",
           "url": "https://lsp-public-data.s3.amazonaws.com/yapp-2023-3d-melanoma/Dataset1-LSP13626-melanoma-in-situ/0"
          },
          {
           "coordinationValues": {
            "obsType": "cell"
           },
           "fileType": "obsSets.anndata.zarr",
           "options": [
            {
             "name": "Initial sets",
             "path": "obs/initial_sets"
            }
           ],
           "url": "http://localhost:8000/bv/0/f4ae6a1d-3b8e-46d1-b35f-66e87d3f4183.adata.zarr"
          },
          {
           "coordinationValues": {
            "obsType": "cell"
           },
           "fileType": "obsLocations.anndata.zarr",
           "options": {
            "path": "obsm/centers"
           },
           "url": "http://localhost:8000/bv/0/f4ae6a1d-3b8e-46d1-b35f-66e87d3f4183.adata.zarr"
          },
          {
           "coordinationValues": {
            "obsType": "cell"
           },
           "fileType": "obsSegmentations.anndata.zarr",
           "options": {
            "path": "obsm/polygons"
           },
           "url": "http://localhost:8000/bv/0/f4ae6a1d-3b8e-46d1-b35f-66e87d3f4183.adata.zarr"
          }
         ],
         "name": "Blood Vessel",
         "uid": "bv"
        }
       ],
       "description": "",
       "initStrategy": "auto",
       "layout": [
        {
         "component": "spatialBeta",
         "coordinationScopes": {
          "additionalObsSets": "B",
          "dataset": "A",
          "featureHighlight": "A",
          "featureSelection": "A",
          "featureType": "A",
          "featureValueColormap": "A",
          "featureValueColormapRange": "A",
          "featureValueType": "A",
          "fileUid": "A",
          "imageChannel": "A",
          "imageLayer": "A",
          "legendVisible": "A",
          "metaCoordinationScopes": [
           "init_bv_obsSegmentations_0",
           "init_bv_image_0",
           "init_bv_image_0",
           "init_bv_obsSegmentations_0"
          ],
          "metaCoordinationScopesBy": [
           "init_bv_obsSegmentations_0",
           "init_bv_image_0",
           "init_bv_image_0",
           "init_bv_obsSegmentations_0"
          ],
          "moleculeHighlight": "A",
          "obsColorEncoding": "A",
          "obsFilter": "A",
          "obsHighlight": "A",
          "obsLabelsType": "A",
          "obsSetColor": "B",
          "obsSetHighlight": "A",
          "obsSetSelection": "B",
          "obsType": "A",
          "pixelHighlight": "A",
          "pointLayer": "A",
          "segmentationChannel": "A",
          "segmentationLayer": "A",
          "spatialAxisFixed": "A",
          "spatialChannelColor": "A",
          "spatialChannelLabelSize": "A",
          "spatialChannelLabelsOrientation": "A",
          "spatialChannelLabelsVisible": "A",
          "spatialChannelOpacity": "A",
          "spatialChannelVisible": "A",
          "spatialChannelWindow": "A",
          "spatialLayerColor": "A",
          "spatialLayerColormap": "A",
          "spatialLayerModelMatrix": "A",
          "spatialLayerOpacity": "A",
          "spatialLayerTransparentColor": "A",
          "spatialLayerVisible": "A",
          "spatialNeighborhoodLayer": "A",
          "spatialOrbitAxis": "A",
          "spatialPointLayer": "A",
          "spatialRenderingMode": "A",
          "spatialRotation": "A",
          "spatialRotationOrbit": "A",
          "spatialRotationX": "A",
          "spatialRotationY": "A",
          "spatialRotationZ": "A",
          "spatialSegmentationFilled": "A",
          "spatialSegmentationStrokeWidth": "A",
          "spatialSliceX": "A",
          "spatialSliceY": "A",
          "spatialSliceZ": "A",
          "spatialSpotFilled": "A",
          "spatialSpotRadius": "A",
          "spatialSpotStrokeWidth": "A",
          "spatialTargetC": "A",
          "spatialTargetResolution": "A",
          "spatialTargetT": "A",
          "spatialTargetX": "A",
          "spatialTargetY": "A",
          "spatialTargetZ": "A",
          "spatialZoom": "A",
          "spotLayer": "A",
          "tooltipCrosshairsVisible": "A",
          "tooltipsVisible": "A",
          "volumetricRenderingAlgorithm": "A"
         },
         "h": 12,
         "uid": "A",
         "w": 6,
         "x": 0,
         "y": 0
        },
        {
         "component": "layerControllerBeta",
         "coordinationScopes": {
          "dataset": "A",
          "featureSelection": "A",
          "featureType": "A",
          "featureValueColormap": "A",
          "featureValueColormapRange": "A",
          "featureValueType": "A",
          "fileUid": "A",
          "imageChannel": "A",
          "imageLayer": "A",
          "legendVisible": "A",
          "metaCoordinationScopes": [
           "init_bv_obsSegmentations_0",
           "init_bv_image_0",
           "init_bv_image_0",
           "init_bv_obsSegmentations_0"
          ],
          "metaCoordinationScopesBy": [
           "init_bv_obsSegmentations_0",
           "init_bv_image_0",
           "init_bv_image_0",
           "init_bv_obsSegmentations_0"
          ],
          "obsColorEncoding": "A",
          "obsType": "A",
          "photometricInterpretation": "A",
          "pointLayer": "A",
          "segmentationChannel": "A",
          "segmentationLayer": "A",
          "spatialChannelColor": "A",
          "spatialChannelLabelSize": "A",
          "spatialChannelLabelsOrientation": "A",
          "spatialChannelLabelsVisible": "A",
          "spatialChannelOpacity": "A",
          "spatialChannelVisible": "A",
          "spatialChannelWindow": "A",
          "spatialLayerColor": "A",
          "spatialLayerColormap": "A",
          "spatialLayerModelMatrix": "A",
          "spatialLayerOpacity": "A",
          "spatialLayerTransparentColor": "A",
          "spatialLayerVisible": "A",
          "spatialNeighborhoodLayer": "A",
          "spatialOrbitAxis": "A",
          "spatialPointLayer": "A",
          "spatialRenderingMode": "A",
          "spatialRotationOrbit": "A",
          "spatialRotationX": "A",
          "spatialRotationY": "A",
          "spatialRotationZ": "A",
          "spatialSegmentationFilled": "A",
          "spatialSegmentationStrokeWidth": "A",
          "spatialSliceX": "A",
          "spatialSliceY": "A",
          "spatialSliceZ": "A",
          "spatialSpotFilled": "A",
          "spatialSpotRadius": "A",
          "spatialSpotStrokeWidth": "A",
          "spatialTargetC": "A",
          "spatialTargetResolution": "A",
          "spatialTargetT": "A",
          "spatialTargetX": "A",
          "spatialTargetY": "A",
          "spatialTargetZ": "A",
          "spatialZoom": "A",
          "spotLayer": "A",
          "tooltipCrosshairsVisible": "A",
          "tooltipsVisible": "A",
          "volumetricRenderingAlgorithm": "A"
         },
         "h": 6,
         "uid": "B",
         "w": 6,
         "x": 6,
         "y": 0
        },
        {
         "component": "obsSets",
         "coordinationScopes": {
          "additionalObsSets": "A",
          "dataset": "A",
          "featureSelection": "A",
          "obsColorEncoding": "A",
          "obsSetColor": "A",
          "obsSetExpansion": "A",
          "obsSetHighlight": "A",
          "obsSetSelection": "A",
          "obsType": "A"
         },
         "h": 6,
         "uid": "C",
         "w": 6,
         "x": 6,
         "y": 6
        }
       ],
       "name": "BioMedVis Challenge",
       "uid": "A",
       "version": "1.0.16"
      },
      "custom_js_url": "",
      "has_host_name": false,
      "height": 600,
      "js_dev_mode": false,
      "js_package_version": "3.4.5",
      "layout": "IPY_MODEL_537a7f2c3a8844d39e2a80135b82dfb2",
      "plugin_esm": [
       "\nfunction createPlugins(utilsForPlugins) {\n    const {\n        React,\n        PluginFileType,\n        PluginViewType,\n        PluginCoordinationType,\n        PluginJointFileType,\n        z,\n        useCoordination,\n        invokeCommand,\n    } = utilsForPlugins;\n    return {\n        pluginViewTypes: undefined,\n        pluginFileTypes: undefined,\n        pluginCoordinationTypes: undefined,\n        pluginJointFileTypes: undefined,\n    };\n}\nexport default { createPlugins };\n"
      ],
      "proxy": false,
      "remount_on_uid_change": false,
      "store_urls": [
       "http://localhost:8000/bv/0/f4ae6a1d-3b8e-46d1-b35f-66e87d3f4183.adata.zarr"
      ],
      "theme": "auto",
      "uid": "0132"
     }
    }
   }
  }
 },
 "nbformat": 4,
 "nbformat_minor": 1
}
